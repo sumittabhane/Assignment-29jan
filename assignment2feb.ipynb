{
 "cells": [
  {
   "cell_type": "code",
   "execution_count": 1,
   "id": "534a69b4-6395-4bb5-a1c7-334c0b13973e",
   "metadata": {},
   "outputs": [
    {
     "name": "stdout",
     "output_type": "stream",
     "text": [
      "1\n",
      "2\n",
      "3\n",
      "4\n",
      "5\n",
      "6\n",
      "7\n",
      "8\n",
      "9\n",
      "10\n",
      "0\n",
      "1\n",
      "2\n",
      "3\n",
      "4\n",
      "5\n",
      "6\n",
      "7\n",
      "8\n",
      "9\n"
     ]
    }
   ],
   "source": [
    "# # Q1.Explain with an example each when to use a for loop and a while loop. \n",
    "# :-In Python, for loops and while loops are used to execute a block of code repeatedly. The key difference between them is the way they control the iteration.\n",
    "# Use a for loop when:\n",
    "# When you want to iterate over a sequence: A for loop is best suited when you know the number of iterations you need to perform. \n",
    "for i in range(1, 11):\n",
    "    print(i)\n",
    "#When you need to continuously perform an action: A while loop is also useful when you need to continuously perform an action until a specific condition is met.\n",
    "j=0\n",
    "while j<10:\n",
    "  print(j)\n",
    "  j=j+1\n"
   ]
  },
  {
   "cell_type": "code",
   "execution_count": 2,
   "id": "ca0bfa8a-6e92-4652-8208-077b0e7dc541",
   "metadata": {},
   "outputs": [
    {
     "name": "stdout",
     "output_type": "stream",
     "text": [
      "Sum of first 10 natural number using for loop is =  55\n",
      "Sum of first 10 natural number using while loop is =  55\n"
     ]
    }
   ],
   "source": [
    "# Q2.  Write a python program to print the sum and product of the first 10 natural numbers using for  and while loop.\n",
    "#for loop\n",
    "sum=0\n",
    "for i in range(0,11):\n",
    "  sum=sum+i\n",
    "print(\"Sum of first 10 natural number using for loop is = \",sum)\n",
    "\n",
    "#while loop\n",
    "tot=0\n",
    "j=0\n",
    "while j<=10:\n",
    "  tot=tot+j\n",
    "  j=j+1\n",
    "print(\"Sum of first 10 natural number using while loop is = \",tot) \n"
   ]
  },
  {
   "cell_type": "code",
   "execution_count": 3,
   "id": "7317aaed-8889-4344-9e8e-ffa7bda68560",
   "metadata": {},
   "outputs": [
    {
     "name": "stdin",
     "output_type": "stream",
     "text": [
      "Enter the number of units consumed in a month:  310\n"
     ]
    },
    {
     "name": "stdout",
     "output_type": "stream",
     "text": [
      "Electricity bill: Rs. 2250.0\n"
     ]
    }
   ],
   "source": [
    "# Q3. Create a python program to compute the electricity bill for a household. \n",
    "# The per-unit charges in rupees are as follows: For the first 100 units, the user will be charged Rs. 4.5 per  unit, for the next 100 units, the user will be charged Rs. 6 per unit, and for the next 100 units, the user will  be charged Rs. 10 per unit, After 300 units and above the user will be charged Rs. 20 per unit. \n",
    "units = int(input(\"Enter the number of units consumed in a month: \"))\n",
    "bill = 0\n",
    "\n",
    "if units <= 100:\n",
    "    bill = units * 4.5\n",
    "else:\n",
    "    bill = 100 * 4.5\n",
    "    units -= 100\n",
    "    if units <= 100:\n",
    "        bill += units * 6\n",
    "    else:\n",
    "        bill += 100 * 6\n",
    "        units -= 100\n",
    "        if units <= 100:\n",
    "            bill += units * 10\n",
    "        else:\n",
    "            bill += 100 * 10\n",
    "            units -= 100\n",
    "            bill += units * 20\n",
    "\n",
    "print(\"Electricity bill: Rs.\", bill)"
   ]
  },
  {
   "cell_type": "code",
   "execution_count": 4,
   "id": "31f1309e-39d3-44ac-a247-eaea8984adac",
   "metadata": {},
   "outputs": [
    {
     "data": {
      "text/plain": [
       "[8,\n",
       " 64,\n",
       " 125,\n",
       " 216,\n",
       " 512,\n",
       " 1000,\n",
       " 1728,\n",
       " 2744,\n",
       " 3375,\n",
       " 4096,\n",
       " 5832,\n",
       " 8000,\n",
       " 10648,\n",
       " 13824,\n",
       " 15625,\n",
       " 17576,\n",
       " 21952,\n",
       " 27000,\n",
       " 32768,\n",
       " 39304,\n",
       " 42875,\n",
       " 46656,\n",
       " 54872,\n",
       " 64000,\n",
       " 74088,\n",
       " 85184,\n",
       " 91125,\n",
       " 97336,\n",
       " 110592,\n",
       " 125000,\n",
       " 140608,\n",
       " 157464,\n",
       " 166375,\n",
       " 175616,\n",
       " 195112,\n",
       " 216000,\n",
       " 238328,\n",
       " 262144,\n",
       " 274625,\n",
       " 287496,\n",
       " 314432,\n",
       " 343000,\n",
       " 373248,\n",
       " 405224,\n",
       " 421875,\n",
       " 438976,\n",
       " 474552,\n",
       " 512000,\n",
       " 551368,\n",
       " 592704,\n",
       " 614125,\n",
       " 636056,\n",
       " 681472,\n",
       " 729000,\n",
       " 778688,\n",
       " 830584,\n",
       " 857375,\n",
       " 884736,\n",
       " 941192,\n",
       " 1000000]"
      ]
     },
     "execution_count": 4,
     "metadata": {},
     "output_type": "execute_result"
    }
   ],
   "source": [
    "# Q4. Create a list of numbers from 1 to 100. Use for loop and while loop to calculate the cube of each  number and if the cube of that number is divisible by 4 or 5 then append that number in a list and print  that list. \n",
    "l=list(range(1,101))\n",
    "l1=[]\n",
    "for i in l:\n",
    "  if (i*i*i)%4==0 or (i*i*i)%5==0:\n",
    "    l1.append(i*i*i)\n",
    "l1"
   ]
  },
  {
   "cell_type": "code",
   "execution_count": 6,
   "id": "7b4f1b27-5795-4758-9332-47ae2f77e1e0",
   "metadata": {},
   "outputs": [
    {
     "name": "stdout",
     "output_type": "stream",
     "text": [
      "Count of vovels in given string is : 11\n"
     ]
    }
   ],
   "source": [
    "# Q5.  Write a program to filter count vowels in the below-given string. \n",
    "# string = \"I want to become a data scientist\" \n",
    "string = \"I want to become a data scientist\"\n",
    "list(string)\n",
    "count=0\n",
    "for i in string:\n",
    "  if i=='a' or i=='e' or i=='i' or i=='o' or i=='u':\n",
    "    count=count+1\n",
    "print(\"Count of vovels in given string is :\",count)"
   ]
  },
  {
   "cell_type": "code",
   "execution_count": null,
   "id": "53fa9675-4efe-4701-97c9-90db7e942b69",
   "metadata": {},
   "outputs": [],
   "source": []
  }
 ],
 "metadata": {
  "kernelspec": {
   "display_name": "Python 3 (ipykernel)",
   "language": "python",
   "name": "python3"
  },
  "language_info": {
   "codemirror_mode": {
    "name": "ipython",
    "version": 3
   },
   "file_extension": ".py",
   "mimetype": "text/x-python",
   "name": "python",
   "nbconvert_exporter": "python",
   "pygments_lexer": "ipython3",
   "version": "3.10.8"
  }
 },
 "nbformat": 4,
 "nbformat_minor": 5
}
