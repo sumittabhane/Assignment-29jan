{
 "cells": [
  {
   "cell_type": "code",
   "execution_count": 1,
   "id": "d55cf946-cf32-4741-bfaf-b7e333e160bc",
   "metadata": {},
   "outputs": [],
   "source": [
    "# Q1. You are writing code for a company. The requirement of the company is that you create a python  function that will check whether the password entered by the user is correct or not. The function should  take the password as input and return the string “Valid Password” if the entered password follows the  below-given password guidelines else it should return “Invalid Password”. \n",
    "# Note: 1. The Password should contain at least two uppercase letters and at least two lowercase letters. 2. The Password should contain at least a number and three special characters. \n",
    "# 3. The length of the password should be 10 characters long. \n",
    "def check_password(password):\n",
    "    if len(password) != 10:\n",
    "        return \"Invalid Password\"\n",
    "    num_uppercase = 0\n",
    "    num_lowercase = 0\n",
    "    for char in password:\n",
    "        if char.isupper():\n",
    "            num_uppercase += 1\n",
    "        elif char.islower():\n",
    "            num_lowercase += 1\n",
    "    if num_uppercase < 2 or num_lowercase < 2:\n",
    "        return \"Invalid Password\"\n",
    "    num_digits = 0\n",
    "    num_special = 0\n",
    "    for char in password:\n",
    "        if char.isdigit():\n",
    "            num_digits += 1\n",
    "        elif char in \"!@#$%^&*()_+-=[]{}|;':\\\"<>,.?/\":\n",
    "            num_special += 1\n",
    "    if num_digits < 1 or num_special < 3:\n",
    "        return \"Invalid Password\"\n",
    "    return \"Valid Password\""
   ]
  },
  {
   "cell_type": "code",
   "execution_count": null,
   "id": "01bcd183-9cc7-4d81-ba74-51cc6ed5434b",
   "metadata": {},
   "outputs": [
    {
     "name": "stdout",
     "output_type": "stream",
     "text": [
      "Valid Password\n",
      "Invalid Password\n"
     ]
    }
   ],
   "source": [
    "password1 = \"Paw0rD!@#$\"\n",
    "result1 = check_password(password1)\n",
    "print(result1)\n",
    "\n",
    "password2 = \"password123\"\n",
    "result2 = check_password(password2)\n",
    "print(result2)\n"
   ]
  },
  {
   "cell_type": "raw",
   "id": "d50134e0-fc10-4a36-b0e6-039faeb32faf",
   "metadata": {},
   "source": [
    "Q2.Solve the below-given questions using at least one of the following:  \n",
    "1. Lambda functioN \n",
    "2. Filter functioN \n",
    "3. Zap functioN \n",
    "4. List ComprehensioN"
   ]
  },
  {
   "cell_type": "code",
   "execution_count": 8,
   "id": "c15f0251-5abf-4723-9a23-ac90b49ece04",
   "metadata": {},
   "outputs": [
    {
     "name": "stdout",
     "output_type": "stream",
     "text": [
      "['Yellow']\n"
     ]
    }
   ],
   "source": [
    " # i) Check if the string starts with a particular letter Y \n",
    "strings = [\"Yellow\", \"banana\", \"orange\", \"mango\"]\n",
    "letter = \"Y\"\n",
    "result = [string for string in strings if string.startswith(letter)]\n",
    "print(result)"
   ]
  },
  {
   "cell_type": "code",
   "execution_count": 9,
   "id": "4c534383-6704-4bf9-9b5d-5edb1d1fc22a",
   "metadata": {},
   "outputs": [
    {
     "name": "stdout",
     "output_type": "stream",
     "text": [
      "[True, False, False]\n"
     ]
    }
   ],
   "source": [
    "# ii) Check if the string is numericY \n",
    "strings = [\"123\", \"45.6\", \"abc\"]\n",
    "result = [string.isdigit() for string in strings]\n",
    "print(result)"
   ]
  },
  {
   "cell_type": "code",
   "execution_count": 10,
   "id": "ea097db7-f871-41b0-90c6-df2ee9f7b928",
   "metadata": {},
   "outputs": [
    {
     "name": "stdout",
     "output_type": "stream",
     "text": [
      "[('orange', 80), ('mango', 99), ('grapes', 1000)]\n"
     ]
    }
   ],
   "source": [
    "# iii) Sort a list of tuples having fruit names and their quantity. [(\"mango\",99),(\"orange\",80), (\"grapes\", 1000)]\n",
    "fruits = [(\"mango\", 99), (\"orange\", 80), (\"grapes\", 1000)]\n",
    "sorted_fruits = sorted(fruits, key=lambda x: x[1])\n",
    "print(sorted_fruits)"
   ]
  },
  {
   "cell_type": "code",
   "execution_count": 11,
   "id": "68bf07b8-fb37-4776-a612-2c837fb1054b",
   "metadata": {},
   "outputs": [
    {
     "name": "stdout",
     "output_type": "stream",
     "text": [
      "[1, 4, 9, 16, 25, 36, 49, 64, 81, 100]\n"
     ]
    }
   ],
   "source": [
    "# iv) Find the squares of numbers from 1 to 10\n",
    "squares = [x ** 2 for x in range(1, 11)]\n",
    "print(squares)"
   ]
  },
  {
   "cell_type": "code",
   "execution_count": 12,
   "id": "95498b7b-ea3b-4b81-a3ca-ba8a141a558d",
   "metadata": {},
   "outputs": [
    {
     "name": "stdout",
     "output_type": "stream",
     "text": [
      "[1.0, 1.2599210498948732, 1.4422495703074083, 1.5874010519681994, 1.7099759466766968, 1.8171205928321397, 1.912931182772389, 2.0, 2.080083823051904, 2.154434690031884]\n"
     ]
    }
   ],
   "source": [
    "# v) Find the cube root of numbers from 1 to 10Y \n",
    "cube_roots = [pow(x, 1/3) for x in range(1, 11)]\n",
    "print(cube_roots)"
   ]
  },
  {
   "cell_type": "code",
   "execution_count": 13,
   "id": "0dcf10a0-0ccf-41ab-97a9-bc1bedf91dd7",
   "metadata": {},
   "outputs": [
    {
     "name": "stdout",
     "output_type": "stream",
     "text": [
      "True\n",
      "False\n"
     ]
    }
   ],
   "source": [
    "# vi) Check if a given number is evenY \n",
    "is_even = lambda x: x % 2 == 0\n",
    "print(is_even(4))  \n",
    "print(is_even(3))  "
   ]
  },
  {
   "cell_type": "code",
   "execution_count": 14,
   "id": "a4d33dc6-d802-41d6-9f08-9130e262740a",
   "metadata": {},
   "outputs": [
    {
     "name": "stdout",
     "output_type": "stream",
     "text": [
      "[1, 3, 5, 7, 9]\n"
     ]
    }
   ],
   "source": [
    "# vii) Filter odd numbers from the given list. [1,2,3,4,5,6,7,8,9,10]\n",
    "numbers = [1, 2, 3, 4, 5, 6, 7, 8, 9, 10]\n",
    "filtered_numbers = list(filter(lambda x: x % 2 != 0, numbers))\n",
    "print(filtered_numbers)  "
   ]
  },
  {
   "cell_type": "code",
   "execution_count": 15,
   "id": "4d53695d-dc9b-4296-82da-8efacecf63bf",
   "metadata": {},
   "outputs": [
    {
     "name": "stdout",
     "output_type": "stream",
     "text": [
      "Positive numbers: [1, 2, 3, 4, 5, 6]\n",
      "Negative numbers: [-1, -2, -3, -4, -5]\n"
     ]
    }
   ],
   "source": [
    "# viii) Sort a list of integers into positive and negative integers lists. [1,2,3,4,5,6,-1,-2,-3,-4,-5,0] \n",
    "lst = [1, 2, 3, 4, 5, 6, -1, -2, -3, -4, -5, 0]\n",
    "positive_nums = list(filter(lambda x: x > 0, lst))\n",
    "negative_nums = list(filter(lambda x: x < 0, lst))\n",
    "positive_nums = [x for x in lst if x > 0]\n",
    "negative_nums = [x for x in lst if x < 0]\n",
    "print(\"Positive numbers:\", positive_nums)\n",
    "print(\"Negative numbers:\", negative_nums)"
   ]
  },
  {
   "cell_type": "code",
   "execution_count": null,
   "id": "6c7efc0d-1fe4-4bb8-b8cc-a1e5001e1a11",
   "metadata": {},
   "outputs": [],
   "source": []
  }
 ],
 "metadata": {
  "kernelspec": {
   "display_name": "Python 3 (ipykernel)",
   "language": "python",
   "name": "python3"
  },
  "language_info": {
   "codemirror_mode": {
    "name": "ipython",
    "version": 3
   },
   "file_extension": ".py",
   "mimetype": "text/x-python",
   "name": "python",
   "nbconvert_exporter": "python",
   "pygments_lexer": "ipython3",
   "version": "3.10.8"
  }
 },
 "nbformat": 4,
 "nbformat_minor": 5
}
