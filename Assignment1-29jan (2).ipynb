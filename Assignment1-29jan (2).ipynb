{
 "cells": [
  {
   "cell_type": "code",
   "execution_count": 1,
   "id": "de5d2042-a5cb-4e4c-92d9-5d6faeea3597",
   "metadata": {},
   "outputs": [],
   "source": [
    "# 1)Who developed Python programming language?\n",
    "# :-Python was developed by Guido van Rossum at Centrum Wiskunde & Informatica in the Netherlands"
   ]
  },
  {
   "cell_type": "code",
   "execution_count": 2,
   "id": "2331096e-7f01-43e6-a73c-92daecce34d0",
   "metadata": {},
   "outputs": [],
   "source": [
    "# 2)Which type of programming does python supports?\n",
    "# :-Python supports  Object-oriented programming as well as structured programming"
   ]
  },
  {
   "cell_type": "code",
   "execution_count": 3,
   "id": "196662ea-c062-4247-9884-537004835876",
   "metadata": {},
   "outputs": [],
   "source": [
    "# 3)Is python case sensitive when dealing with identifiers?\n",
    "# :-Yes, Python is case sensitive while dealing with identifires."
   ]
  },
  {
   "cell_type": "code",
   "execution_count": 4,
   "id": "520a5972-c59d-4376-a63c-8f0249c015ce",
   "metadata": {},
   "outputs": [],
   "source": [
    "# 4)What is the correct extension of the python file?\n",
    "# :- .py is the correct extension of the python file"
   ]
  },
  {
   "cell_type": "code",
   "execution_count": 5,
   "id": "02b340ff-97ca-40be-98e3-cd6f3d440ada",
   "metadata": {},
   "outputs": [],
   "source": [
    "# 5)Is python code compiled or interpreted?\n",
    "# :- python code is interpreted."
   ]
  },
  {
   "cell_type": "code",
   "execution_count": 6,
   "id": "638243a7-30c5-42ba-904f-d9f97d3e17c5",
   "metadata": {},
   "outputs": [],
   "source": [
    "# 6)Name few blocks of code used to define in python language?\n",
    "# :-Module,Function body, and class definition."
   ]
  },
  {
   "cell_type": "code",
   "execution_count": 7,
   "id": "f31a0d0c-0261-4af3-b3af-f3a59fe1d8e4",
   "metadata": {},
   "outputs": [],
   "source": [
    "# 7)State a character used to give single line comments in python?\n",
    "# :- #"
   ]
  },
  {
   "cell_type": "code",
   "execution_count": 8,
   "id": "ed8f2045-1d52-401e-850d-5f0a6cc05ccf",
   "metadata": {},
   "outputs": [],
   "source": [
    "# 8)Mention functions which can help us to find the version of python that we are currently working on?\n",
    "# :-sys.version"
   ]
  },
  {
   "cell_type": "code",
   "execution_count": 1,
   "id": "0fddc83a-582c-43ae-84d3-612cf5e23f7f",
   "metadata": {},
   "outputs": [],
   "source": [
    "# 9)Python supports the creation of anyonomous functions at runtime, using a construct called :-lambda"
   ]
  },
  {
   "cell_type": "code",
   "execution_count": 2,
   "id": "87153232-2de3-45e1-bb8d-24d9d1b492bb",
   "metadata": {},
   "outputs": [],
   "source": [
    "# 10)What does pip stand for python?\n",
    "# :-Preferred Installer Program"
   ]
  },
  {
   "cell_type": "code",
   "execution_count": 4,
   "id": "3901f4da-4fd8-4076-9562-19f77ada62f7",
   "metadata": {},
   "outputs": [],
   "source": [
    "# 11)Mention some built in functions in python?\n",
    "# :-type(),input(),pop(),insert(),append(),print()"
   ]
  },
  {
   "cell_type": "code",
   "execution_count": 5,
   "id": "8f02df1f-b7c2-45bb-8875-9ee91ebd3750",
   "metadata": {},
   "outputs": [],
   "source": [
    "# #12)What is the maximum possible length of an identifier in python?\n",
    "# :- An identifier can have a maximum length of 79 characters in Python"
   ]
  },
  {
   "cell_type": "code",
   "execution_count": 6,
   "id": "76f1ded3-34ae-40c3-8c43-ad4700de0e84",
   "metadata": {},
   "outputs": [],
   "source": [
    "# 13)What are benifits of using python?\n",
    "# :-Python is one of the most popular programming languages in the world,Wide range of use cases and Python offers a wide range of libraries that can be used across various applications."
   ]
  },
  {
   "cell_type": "code",
   "execution_count": 7,
   "id": "f6d4d4f7-2517-45b6-8ff0-b89b2422be97",
   "metadata": {},
   "outputs": [],
   "source": [
    "# 14)How is memory managed in python?\n",
    "# :-Memory management in Python involves a private heap containing all Python objects and data structures. The management of this private heap is ensured internally by the Python memory manager."
   ]
  },
  {
   "cell_type": "code",
   "execution_count": null,
   "id": "25873d2f-fbcb-4c11-845f-dd180ccf92e5",
   "metadata": {},
   "outputs": [],
   "source": [
    "# 15)How to install Python on windows and set path variables?\n",
    "# :-Download Python installer:\n",
    "# Go to the official Python website (https://www.python.org/downloads/) and download the latest version of Python for Windows. Choose the correct version based on your Windows architecture (32-bit or 64-bit).\n",
    "\n",
    "# Run the installer:\n",
    "# Once the download is complete, run the installer by double-clicking on the downloaded file. You will see a setup wizard.\n",
    "\n",
    "# Choose installation location:\n",
    "# Choose the installation location, and make sure to select the option to add Python to PATH during installation.\n",
    "\n",
    "# Customize the installation (Optional):\n",
    "# You can customize the installation by choosing the features you want to install. For most users, the default settings are sufficient.\n",
    "\n",
    "# Install Python:\n",
    "# Click on the \"Install Now\" button to start the installation process.\n",
    "\n",
    "# Verify installation:\n",
    "# Once the installation is complete, open the command prompt and type \"python\" to verify that Python is installed correctly. If Python is installed correctly, you should see the Python version number printed in the console.\n",
    "\n",
    "# Set Path variables:\n",
    "# To set the path variables, follow these steps:\n",
    "\n",
    "# Right-click on \"My Computer\" or \"This PC\" and select \"Properties\".\n",
    "# Click on \"Advanced System Settings\" on the left-hand side.\n",
    "# Click on the \"Environment Variables\" button at the bottom.\n",
    "# Under \"System Variables,\" scroll down and find the \"Path\" variable, and click \"Edit\".\n",
    "# Add the path to the Python installation folder to the end of the \"Variable value\" field. For example, if you installed Python to \"C:\\Python37\", add \";C:\\Python37\" to the end of the existing value.\n",
    "# Click \"OK\" to close all the windows."
   ]
  },
  {
   "cell_type": "code",
   "execution_count": null,
   "id": "69383f73-f789-4ec3-b3fd-2f2f539477a6",
   "metadata": {},
   "outputs": [],
   "source": [
    "# 16)Is indentation required in python?\n",
    "# :-Yes"
   ]
  }
 ],
 "metadata": {
  "kernelspec": {
   "display_name": "Python 3 (ipykernel)",
   "language": "python",
   "name": "python3"
  },
  "language_info": {
   "codemirror_mode": {
    "name": "ipython",
    "version": 3
   },
   "file_extension": ".py",
   "mimetype": "text/x-python",
   "name": "python",
   "nbconvert_exporter": "python",
   "pygments_lexer": "ipython3",
   "version": "3.10.8"
  }
 },
 "nbformat": 4,
 "nbformat_minor": 5
}
