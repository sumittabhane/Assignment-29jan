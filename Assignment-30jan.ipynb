{
 "cells": [
  {
   "cell_type": "code",
   "execution_count": 4,
   "id": "1b6fcadc-2f19-466e-aedc-cf1da3a97b1b",
   "metadata": {},
   "outputs": [
    {
     "name": "stdin",
     "output_type": "stream",
     "text": [
      "Enter the percentage:  50\n"
     ]
    },
    {
     "name": "stdout",
     "output_type": "stream",
     "text": [
      "D\n"
     ]
    }
   ],
   "source": [
    "# 1. Write a program to accept percentage from the user and display the grade according to the following\n",
    "percentage=float(input(\"Enter the percentage: \"))\n",
    "if percentage>90:\n",
    "    print(\"A\")\n",
    "elif percentage>80 and percentage<=90:\n",
    "    print(\"B\")\n",
    "elif percentage>=60 and percentage<=80:\n",
    "    print(\"C\")\n",
    "else:\n",
    "    print(\"D\")"
   ]
  },
  {
   "cell_type": "code",
   "execution_count": 6,
   "id": "7d264fda-7a3e-42b5-83d2-9cd70ea19b95",
   "metadata": {},
   "outputs": [
    {
     "name": "stdin",
     "output_type": "stream",
     "text": [
      "Enter the Cost of Bike:  110000\n"
     ]
    },
    {
     "name": "stdout",
     "output_type": "stream",
     "text": [
      "The road tax to be paid is 16500.0\n"
     ]
    }
   ],
   "source": [
    "# 2. Write a program to accept the cost price of a bike and display the road tax to be paid according to the criteria\n",
    "bikecost=float(input(\"Enter the Cost of Bike: \"))\n",
    "if bikecost>100000:\n",
    "    roadtax=(15/100)*bikecost\n",
    "    print(\"The road tax to be paid is\",roadtax)\n",
    "elif bikecost>500000 and bikecost<=100000:\n",
    "    roadtax=(10/100)*bikecost\n",
    "    print(\"The road tax to be paid is\",roadtax)\n",
    "elif bikecost<=50000:\n",
    "    roadtax=(5/100)*bikecost\n",
    "    print(\"The road tax to be paid is\",roadtax)"
   ]
  },
  {
   "cell_type": "code",
   "execution_count": 7,
   "id": "fb95b9ae-518a-448f-b5e8-e986e314b37c",
   "metadata": {},
   "outputs": [
    {
     "name": "stdin",
     "output_type": "stream",
     "text": [
      "Enter the name of city to view Monument name:  Delhi\n"
     ]
    },
    {
     "name": "stdout",
     "output_type": "stream",
     "text": [
      "Red Fort\n"
     ]
    }
   ],
   "source": [
    "# 3. Accept any city from the user and display monuments of that city. A\n",
    "city=str(input(\"Enter the name of city to view Monument name: \"))\n",
    "if city==\"Delhi\" or \"delhi\":\n",
    "    print(\"Red Fort\")\n",
    "elif city==\"Agra\" or \"agra\":\n",
    "    print(\"Taj Mahal\")\n",
    "elif city==\"Jaipur\"or\"jaipur\":\n",
    "    print(\"Jal Mahal\")\n",
    "else:\n",
    "    print(\"Select City between the following : Delhi,Agra,Jaipur\")"
   ]
  },
  {
   "cell_type": "code",
   "execution_count": null,
   "id": "f0a5662d-d2ca-4f78-a811-11500184a820",
   "metadata": {},
   "outputs": [],
   "source": [
    "#4. Check how many times a given number can be divided by 3 before it is less than or equal to 10. \n",
    "num=int(input(\"Enter the Number: \"))\n",
    "count=0\n",
    "if num%3==0:\n",
    "    while num>=10:\n",
    "        count=count+1\n",
    "        num=num/3\n",
    "print(\"The number is divisible \",count,\"times\")"
   ]
  },
  {
   "cell_type": "code",
   "execution_count": 1,
   "id": "576c767d-b3be-478b-be52-2c11f3b0fb53",
   "metadata": {},
   "outputs": [
    {
     "name": "stdout",
     "output_type": "stream",
     "text": [
      "1\n",
      "2\n",
      "3\n",
      "4\n",
      "5\n"
     ]
    }
   ],
   "source": [
    "#5. Why and When to Use while Loop in Python give a detailed description with example \n",
    "# :-A while loop in Python is used to execute a block of code repeatedly as long as a certain condition is true.\n",
    "# The loop continues to execute until the condition becomes false. \n",
    "# A while loop is useful when the number of iterations required to complete a task is unknown.\n",
    "# The condition is evaluated at the beginning of each iteration. \n",
    "# If the condition is true, the block of code inside the loop is executed. \n",
    "# After the execution of the block of code, the condition is evaluated again, \n",
    "# and if it's still true, the loop continues to execute. This process continues until the condition becomes false.\n",
    "# Here's an example of a simple while loop that prints numbers from 1 to 5:\n",
    "i = 1\n",
    "while i <= 5:\n",
    "    print(i)\n",
    "    i = i + 1"
   ]
  },
  {
   "cell_type": "code",
   "execution_count": 4,
   "id": "688180ca-6374-40b3-9111-ed8a1d01a3b3",
   "metadata": {},
   "outputs": [
    {
     "name": "stdout",
     "output_type": "stream",
     "text": [
      "1\n",
      "12\n",
      "123\n",
      "1234\n",
      "12345\n",
      "\n",
      "\n",
      "\n",
      "*****\n",
      "****\n",
      "***\n",
      "**\n",
      "*\n",
      "\n",
      "\n",
      "\n",
      "1\n",
      "22\n",
      "333\n",
      "4444\n",
      "55555\n"
     ]
    }
   ],
   "source": [
    "# 6. Use nested while loop to print 3 different pattern.\n",
    "#1\n",
    "i=1\n",
    "while i <= 5:\n",
    "    j = 1\n",
    "    while j <= i:\n",
    "        print(j, end=\"\")\n",
    "        j=j+1\n",
    "    print(\"\")\n",
    "    i=i+1\n",
    "    \n",
    "print(\"\\n\\n\")    \n",
    "#2\n",
    "i = 5\n",
    "while i >= 1:\n",
    "    j = 1\n",
    "    while j <= i:\n",
    "        print(\"*\", end=\"\")\n",
    "        j += 1\n",
    "    print(\"\")\n",
    "    i -= 1\n",
    "print(\"\\n\\n\")\n",
    "#3\n",
    "i = 1\n",
    "while i <= 5:\n",
    "    j = 1\n",
    "    while j <= i:\n",
    "        print(i, end=\"\")\n",
    "        j += 1\n",
    "    print(\"\")\n",
    "    i += 1"
   ]
  },
  {
   "cell_type": "code",
   "execution_count": 6,
   "id": "94fb36b1-624f-4513-8f54-fd4f74117bb4",
   "metadata": {},
   "outputs": [
    {
     "name": "stdout",
     "output_type": "stream",
     "text": [
      "10\n",
      "9\n",
      "8\n",
      "7\n",
      "6\n",
      "5\n",
      "4\n",
      "3\n",
      "2\n",
      "1\n"
     ]
    }
   ],
   "source": [
    "#7. Reverse a while loop to display numbers from 10 to 1. \n",
    "i = 10\n",
    "while i >= 1:\n",
    "    print(i)\n",
    "    i=i-1"
   ]
  },
  {
   "cell_type": "code",
   "execution_count": 7,
   "id": "4184f7ef-bf4c-4575-a972-bfea985845ab",
   "metadata": {},
   "outputs": [
    {
     "name": "stdout",
     "output_type": "stream",
     "text": [
      "10\n",
      "9\n",
      "8\n",
      "7\n",
      "6\n",
      "5\n",
      "4\n",
      "3\n",
      "2\n",
      "1\n"
     ]
    }
   ],
   "source": [
    "#8. Reverse a while loop to display numbers from 10 to 1 \n",
    "i = 10\n",
    "while i >= 1:\n",
    "    print(i)\n",
    "    i=i-1"
   ]
  },
  {
   "cell_type": "code",
   "execution_count": null,
   "id": "fee299b2-f79d-45da-bfbd-b483a7ff601f",
   "metadata": {},
   "outputs": [],
   "source": []
  }
 ],
 "metadata": {
  "kernelspec": {
   "display_name": "Python 3 (ipykernel)",
   "language": "python",
   "name": "python3"
  },
  "language_info": {
   "codemirror_mode": {
    "name": "ipython",
    "version": 3
   },
   "file_extension": ".py",
   "mimetype": "text/x-python",
   "name": "python",
   "nbconvert_exporter": "python",
   "pygments_lexer": "ipython3",
   "version": "3.10.8"
  }
 },
 "nbformat": 4,
 "nbformat_minor": 5
}
