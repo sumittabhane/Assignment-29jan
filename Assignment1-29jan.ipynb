{
 "cells": [
  {
   "cell_type": "code",
   "execution_count": 1,
   "id": "de5d2042-a5cb-4e4c-92d9-5d6faeea3597",
   "metadata": {},
   "outputs": [],
   "source": [
    "# 1)Who developed Python programming language?\n",
    "# :-Python was developed by Guido van Rossum at Centrum Wiskunde & Informatica in the Netherlands"
   ]
  },
  {
   "cell_type": "code",
   "execution_count": 2,
   "id": "2331096e-7f01-43e6-a73c-92daecce34d0",
   "metadata": {},
   "outputs": [],
   "source": [
    "# 2)Which type of programming does python supports?\n",
    "# :-Python supports  Object-oriented programming as well as structured programming"
   ]
  },
  {
   "cell_type": "code",
   "execution_count": 3,
   "id": "196662ea-c062-4247-9884-537004835876",
   "metadata": {},
   "outputs": [],
   "source": [
    "# 3)Is python case sensitive when dealing with identifiers?\n",
    "# :-Yes, Python is case sensitive while dealing with identifires."
   ]
  },
  {
   "cell_type": "code",
   "execution_count": 4,
   "id": "520a5972-c59d-4376-a63c-8f0249c015ce",
   "metadata": {},
   "outputs": [],
   "source": [
    "# 4)What is the correct extension of the python file?\n",
    "# :- .py is the correct extension of the python file"
   ]
  },
  {
   "cell_type": "code",
   "execution_count": 5,
   "id": "02b340ff-97ca-40be-98e3-cd6f3d440ada",
   "metadata": {},
   "outputs": [],
   "source": [
    "# 5)Is python code compiled or interpreted?\n",
    "# :- python code is interpreted."
   ]
  },
  {
   "cell_type": "code",
   "execution_count": 6,
   "id": "638243a7-30c5-42ba-904f-d9f97d3e17c5",
   "metadata": {},
   "outputs": [],
   "source": [
    "# 6)Name few blocks of code used to define in python language?\n",
    "# :-Module,Function body, and class definition."
   ]
  },
  {
   "cell_type": "code",
   "execution_count": 7,
   "id": "f31a0d0c-0261-4af3-b3af-f3a59fe1d8e4",
   "metadata": {},
   "outputs": [],
   "source": [
    "# 7)State a character used to give single line comments in python?\n",
    "# :- #"
   ]
  },
  {
   "cell_type": "code",
   "execution_count": 8,
   "id": "ed8f2045-1d52-401e-850d-5f0a6cc05ccf",
   "metadata": {},
   "outputs": [],
   "source": [
    "# 8)Mention functions which can help us to find the version of python that we are currently working on?\n",
    "# :-sys.version"
   ]
  },
  {
   "cell_type": "code",
   "execution_count": 1,
   "id": "0fddc83a-582c-43ae-84d3-612cf5e23f7f",
   "metadata": {},
   "outputs": [],
   "source": [
    "# 9)Python supports the creation of anyonomous functions at runtime, using a construct called :-lambda"
   ]
  },
  {
   "cell_type": "code",
   "execution_count": 2,
   "id": "87153232-2de3-45e1-bb8d-24d9d1b492bb",
   "metadata": {},
   "outputs": [],
   "source": [
    "# 10)What does pip stand for python?\n",
    "# :-Preferred Installer Program"
   ]
  },
  {
   "cell_type": "code",
   "execution_count": 4,
   "id": "3901f4da-4fd8-4076-9562-19f77ada62f7",
   "metadata": {},
   "outputs": [],
   "source": [
    "# 11)Mention some built in functions in python?\n",
    "# :-type(),input(),pop(),insert(),append(),print()"
   ]
  },
  {
   "cell_type": "code",
   "execution_count": 5,
   "id": "8f02df1f-b7c2-45bb-8875-9ee91ebd3750",
   "metadata": {},
   "outputs": [],
   "source": [
    "# #12)What is the maximum possible length of an identifier in python?\n",
    "# :- An identifier can have a maximum length of 79 characters in Python"
   ]
  },
  {
   "cell_type": "code",
   "execution_count": 6,
   "id": "76f1ded3-34ae-40c3-8c43-ad4700de0e84",
   "metadata": {},
   "outputs": [],
   "source": [
    "# 13)What are benifits of using python?\n",
    "# :-Python is one of the most popular programming languages in the world,Wide range of use cases and Python offers a wide range of libraries that can be used across various applications."
   ]
  },
  {
   "cell_type": "code",
   "execution_count": 7,
   "id": "f6d4d4f7-2517-45b6-8ff0-b89b2422be97",
   "metadata": {},
   "outputs": [],
   "source": [
    "# 14)How is memory managed in python?\n",
    "# :-Memory management in Python involves a private heap containing all Python objects and data structures. The management of this private heap is ensured internally by the Python memory manager."
   ]
  },
  {
   "cell_type": "code",
   "execution_count": 8,
   "id": "25873d2f-fbcb-4c11-845f-dd180ccf92e5",
   "metadata": {},
   "outputs": [
    {
     "ename": "SyntaxError",
     "evalue": "invalid syntax (933612728.py, line 2)",
     "output_type": "error",
     "traceback": [
      "\u001b[0;36m  Cell \u001b[0;32mIn[8], line 2\u001b[0;36m\u001b[0m\n\u001b[0;31m    :-\u001b[0m\n\u001b[0m    ^\u001b[0m\n\u001b[0;31mSyntaxError\u001b[0m\u001b[0;31m:\u001b[0m invalid syntax\n"
     ]
    }
   ],
   "source": [
    "15)How to install Python on windows and set path variables?\n",
    ":-"
   ]
  },
  {
   "cell_type": "code",
   "execution_count": null,
   "id": "69383f73-f789-4ec3-b3fd-2f2f539477a6",
   "metadata": {},
   "outputs": [],
   "source": [
    "16)Is indentation required in python?\n",
    ":-Yes"
   ]
  }
 ],
 "metadata": {
  "kernelspec": {
   "display_name": "Python 3 (ipykernel)",
   "language": "python",
   "name": "python3"
  },
  "language_info": {
   "codemirror_mode": {
    "name": "ipython",
    "version": 3
   },
   "file_extension": ".py",
   "mimetype": "text/x-python",
   "name": "python",
   "nbconvert_exporter": "python",
   "pygments_lexer": "ipython3",
   "version": "3.10.8"
  }
 },
 "nbformat": 4,
 "nbformat_minor": 5
}
