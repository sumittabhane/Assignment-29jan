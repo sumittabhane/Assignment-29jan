{
 "cells": [
  {
   "cell_type": "code",
   "execution_count": 4,
   "id": "849f8996-e646-4eba-aefb-df8a216a44c6",
   "metadata": {},
   "outputs": [
    {
     "data": {
      "text/plain": [
       "[('Virat Kohli', 24936),\n",
       " ('Jack Kallis', 25534),\n",
       " ('Ricky Ponting', 27483),\n",
       " ('Sachin Tendulkar', 34357)]"
      ]
     },
     "execution_count": 4,
     "metadata": {},
     "output_type": "execute_result"
    }
   ],
   "source": [
    "# Q1. Create a python program to sort the given list of tuples based on integer value using a  lambda function.  \n",
    "l=[('Sachin Tendulkar', 34357), ('Ricky Ponting', 27483), ('Jack Kallis', 25534), ('Virat Kohli', 24936)] \n",
    "l.sort(key = lambda x:x[1])\n",
    "l"
   ]
  },
  {
   "cell_type": "code",
   "execution_count": 12,
   "id": "4b65a78a-62f2-4e02-87aa-29713dd06c00",
   "metadata": {},
   "outputs": [
    {
     "data": {
      "text/plain": [
       "[1, 4, 9, 16, 25, 36, 49, 64, 81, 100]"
      ]
     },
     "execution_count": 12,
     "metadata": {},
     "output_type": "execute_result"
    }
   ],
   "source": [
    "# Q2. Write a Python Program to find the squares of all the numbers in the given list of integers using  lambda and map functions. \n",
    "l1=[1, 2, 3, 4, 5, 6, 7, 8, 9, 10] \n",
    "sq=list(map(lambda x:x**2,l1))\n",
    "sq"
   ]
  },
  {
   "cell_type": "code",
   "execution_count": 1,
   "id": "7813ae08-482e-4f26-9a44-2e85b05d33da",
   "metadata": {},
   "outputs": [
    {
     "data": {
      "text/plain": [
       "('1', '2', '3', '4', '5', '6', '7', '8', '9', '10')"
      ]
     },
     "execution_count": 1,
     "metadata": {},
     "output_type": "execute_result"
    }
   ],
   "source": [
    "# Q3. Write a python program to convert the given list of integers into a tuple of strings. Use map and  lambda functions \n",
    "l2=[1, 2, 3, 4, 5, 6, 7, 8, 9, 10] \n",
    "op=tuple(map(lambda x:str(x),l2))\n",
    "op"
   ]
  },
  {
   "cell_type": "code",
   "execution_count": 5,
   "id": "e48b63f9-9de0-4b7f-9e5a-4bf51e936b28",
   "metadata": {},
   "outputs": [
    {
     "data": {
      "text/plain": [
       "[1,\n",
       " 2,\n",
       " 3,\n",
       " 4,\n",
       " 5,\n",
       " 6,\n",
       " 7,\n",
       " 8,\n",
       " 9,\n",
       " 10,\n",
       " 11,\n",
       " 12,\n",
       " 13,\n",
       " 14,\n",
       " 15,\n",
       " 16,\n",
       " 17,\n",
       " 18,\n",
       " 19,\n",
       " 20,\n",
       " 21,\n",
       " 22,\n",
       " 23,\n",
       " 24,\n",
       " 25]"
      ]
     },
     "execution_count": 5,
     "metadata": {},
     "output_type": "execute_result"
    }
   ],
   "source": [
    "# Q4.  Write a python program using reduce function to compute the product of a list containing numbers  from 1 to 25. \n",
    "l3=[]\n",
    "for i in range(1,26):\n",
    "    l3.append(i)\n",
    "l3"
   ]
  },
  {
   "cell_type": "code",
   "execution_count": 6,
   "id": "1e6b7216-d38c-4caa-a196-fd2ea3aacc5f",
   "metadata": {},
   "outputs": [
    {
     "data": {
      "text/plain": [
       "15511210043330985984000000"
      ]
     },
     "execution_count": 6,
     "metadata": {},
     "output_type": "execute_result"
    }
   ],
   "source": [
    "from functools import reduce\n",
    "reduce(lambda x,y:x*y,l3)"
   ]
  },
  {
   "cell_type": "code",
   "execution_count": 8,
   "id": "6624d67a-ad8a-41c8-a601-8ac486e73e03",
   "metadata": {},
   "outputs": [
    {
     "data": {
      "text/plain": [
       "[2, 3, 6, 9, 27, 60, 90, 120, 46]"
      ]
     },
     "execution_count": 8,
     "metadata": {},
     "output_type": "execute_result"
    }
   ],
   "source": [
    "# Q5. Write a python program to filter the numbers in a given list that are divisible by 2 and 3 using the  filter function. \n",
    "l4=[2, 3, 6, 9, 27, 60, 90, 120, 55, 46] \n",
    "list(filter(lambda x:x%2==0 or x%3==0,l4))"
   ]
  },
  {
   "cell_type": "code",
   "execution_count": 10,
   "id": "d2a8f591-8dd5-4fe5-b852-93b5ffda391c",
   "metadata": {},
   "outputs": [
    {
     "data": {
      "text/plain": [
       "['php', 'aba', 'radar', 'level']"
      ]
     },
     "execution_count": 10,
     "metadata": {},
     "output_type": "execute_result"
    }
   ],
   "source": [
    "# Q6. Write a python program to find palindromes in the given list of strings using lambda and filter  function. \n",
    "l5=['python', 'php', 'aba', 'radar', 'level'] \n",
    "list(filter(lambda x:x==x[::-1],l5))"
   ]
  },
  {
   "cell_type": "code",
   "execution_count": null,
   "id": "1730cb8d-ffa4-4f6e-9caf-5943833bba36",
   "metadata": {},
   "outputs": [],
   "source": []
  }
 ],
 "metadata": {
  "kernelspec": {
   "display_name": "Python 3 (ipykernel)",
   "language": "python",
   "name": "python3"
  },
  "language_info": {
   "codemirror_mode": {
    "name": "ipython",
    "version": 3
   },
   "file_extension": ".py",
   "mimetype": "text/x-python",
   "name": "python",
   "nbconvert_exporter": "python",
   "pygments_lexer": "ipython3",
   "version": "3.10.8"
  }
 },
 "nbformat": 4,
 "nbformat_minor": 5
}
