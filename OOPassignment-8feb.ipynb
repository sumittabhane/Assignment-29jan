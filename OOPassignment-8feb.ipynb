{
 "cells": [
  {
   "cell_type": "code",
   "execution_count": 7,
   "id": "51f7aa3f-cbf4-4666-85c9-c55219db5df7",
   "metadata": {},
   "outputs": [],
   "source": [
    "# Q1. What is Abstraction in OOps? Explain with an example. \n",
    "# Abstraction in object-oriented programming is a concept that allows you to focus on the essential features of an object, \n",
    "# while hiding the implementation details from the user. It means you can create a simple interface for your objects that exposes only \n",
    "# the necessary information and functionality to the user, and hides the complexity and implementation details from them.\n",
    "# In Python, we can use abstract classes or interfaces to achieve abstraction. \n",
    "# An abstract class is a class that cannot be instantiated and may contain one or more abstract methods,\n",
    "# which are declared but not implemented. An abstract method is a method that does not have any implementation and must be implemented \n",
    "# by its subclasses."
   ]
  },
  {
   "cell_type": "code",
   "execution_count": 8,
   "id": "102250c5-6479-428d-93ae-9ca3e3e4c5d2",
   "metadata": {},
   "outputs": [
    {
     "name": "stdout",
     "output_type": "stream",
     "text": [
      "Car is starting\n",
      "Car is stopping\n",
      "Bike is starting\n",
      "Bike is stopping\n"
     ]
    }
   ],
   "source": [
    "from abc import ABC, abstractmethod\n",
    "\n",
    "class Vehicle(ABC):\n",
    "    @abstractmethod\n",
    "    def start(self):\n",
    "        pass\n",
    "\n",
    "    @abstractmethod\n",
    "    def stop(self):\n",
    "        pass\n",
    "\n",
    "class Car(Vehicle):\n",
    "    def start(self):\n",
    "        print(\"Car is starting\")\n",
    "\n",
    "    def stop(self):\n",
    "        print(\"Car is stopping\")\n",
    "\n",
    "class Bike(Vehicle):\n",
    "    def start(self):\n",
    "        print(\"Bike is starting\")\n",
    "\n",
    "    def stop(self):\n",
    "        print(\"Bike is stopping\")\n",
    "\n",
    "car = Car()\n",
    "car.start()\n",
    "car.stop()\n",
    "\n",
    "bike = Bike()\n",
    "bike.start()\n",
    "bike.stop()\n"
   ]
  },
  {
   "cell_type": "code",
   "execution_count": 9,
   "id": "2e62ba3f-8842-412e-a1c7-08f26e4f1ce5",
   "metadata": {},
   "outputs": [],
   "source": [
    "# Q2. Differentiate between Abstraction and Encapsulation. Explain with an example. \n",
    "# Abstraction and Encapsulation are two important concepts in Object-Oriented Programming (OOP). \n",
    "# Both these concepts help in creating modular and reusable code, but they are different in their approach and implementation.\n",
    "\n",
    "# Abstraction is the process of hiding the implementation details from the user and exposing only the necessary information and functionality.\n",
    "# It allows the user to interact with the object through a simple interface, without worrying about the underlying complexity. \n",
    "# Abstraction is achieved in OOP through abstract classes and interfaces.\n",
    "\n",
    "# Encapsulation, on the other hand, is the process of wrapping the data and code into a single unit and protecting it from external access. \n",
    "# It allows the object to control the access to its internal data and code, and provides a way to enforce data validation and security. \n",
    "# Encapsulation is achieved in OOP through classes, access modifiers, and properties."
   ]
  },
  {
   "cell_type": "code",
   "execution_count": 10,
   "id": "14c43300-e538-48af-9d11-68acc5b429fc",
   "metadata": {},
   "outputs": [
    {
     "name": "stdout",
     "output_type": "stream",
     "text": [
      "Car is starting\n",
      "Car is stopping\n",
      "Bike is starting\n",
      "Bike is stopping\n"
     ]
    }
   ],
   "source": [
    "# Abstraction Example\n",
    "\n",
    "from abc import ABC, abstractmethod\n",
    "\n",
    "class Vehicle(ABC):\n",
    "    @abstractmethod\n",
    "    def start(self):\n",
    "        pass\n",
    "\n",
    "    @abstractmethod\n",
    "    def stop(self):\n",
    "        pass\n",
    "\n",
    "class Car(Vehicle):\n",
    "    def start(self):\n",
    "        print(\"Car is starting\")\n",
    "\n",
    "    def stop(self):\n",
    "        print(\"Car is stopping\")\n",
    "\n",
    "class Bike(Vehicle):\n",
    "    def start(self):\n",
    "        print(\"Bike is starting\")\n",
    "\n",
    "    def stop(self):\n",
    "        print(\"Bike is stopping\")\n",
    "\n",
    "car = Car()\n",
    "car.start()\n",
    "car.stop()\n",
    "\n",
    "bike = Bike()\n",
    "bike.start()\n",
    "bike.stop()"
   ]
  },
  {
   "cell_type": "code",
   "execution_count": 11,
   "id": "3f1751b3-cbc8-4c69-a655-b063301812de",
   "metadata": {},
   "outputs": [
    {
     "name": "stdout",
     "output_type": "stream",
     "text": [
      "1300\n"
     ]
    }
   ],
   "source": [
    "# Encapsulation Example\n",
    "\n",
    "class BankAccount:\n",
    "    def __init__(self, balance):\n",
    "        self.__balance = balance\n",
    "\n",
    "    def deposit(self, amount):\n",
    "        self.__balance += amount\n",
    "\n",
    "    def withdraw(self, amount):\n",
    "        if amount <= self.__balance:\n",
    "            self.__balance -= amount\n",
    "        else:\n",
    "            print(\"Insufficient balance\")\n",
    "\n",
    "    def get_balance(self):\n",
    "        return self.__balance\n",
    "\n",
    "account = BankAccount(1000)\n",
    "account.deposit(500)\n",
    "account.withdraw(200)\n",
    "print(account.get_balance())\n",
    "\n"
   ]
  },
  {
   "cell_type": "code",
   "execution_count": 12,
   "id": "75fec499-0c40-49ce-9436-0ab34ebfb1ee",
   "metadata": {},
   "outputs": [],
   "source": [
    "# Q3. What is abc module in python? Why is it used? \n",
    "# The abc module in Python stands for \"Abstract Base Classes\". It provides the infrastructure for defining abstract base classes (ABCs)\n",
    "# in Python. An abstract base class is a class that cannot be instantiated directly and is meant to be subclassed by other classes. \n",
    "# It is used to define a common API or interface for a set of subclasses, while leaving the implementation details to the subclasses.\n",
    "\n",
    "# The abc module provides the ABC class, which is used to define abstract base classes. \n",
    "# It also provides the abstractmethod decorator, which is used to mark a method as abstract.\n",
    "# Any class that inherits from an ABC must implement all its abstract methods, or it will be considered as an abstract\n",
    "# # class and cannot be instantiated."
   ]
  },
  {
   "cell_type": "code",
   "execution_count": 13,
   "id": "8e8bebb0-99a5-415e-b359-86438b58b497",
   "metadata": {},
   "outputs": [],
   "source": [
    "# Q4. How can we achieve data abstraction? \n",
    "# In Python, we can achieve data abstraction by using abstract classes and interfaces. \n",
    "# Abstract classes are classes that cannot be instantiated and are meant to be subclassed by other classes. \n",
    "# They define a set of methods that the subclass must implement. \n",
    "# An interface is a collection of abstract methods that define a set of behaviors for a class without specifying how they are implemented."
   ]
  },
  {
   "cell_type": "code",
   "execution_count": 14,
   "id": "48c75267-211f-4e78-a7cf-3f1c35acf163",
   "metadata": {},
   "outputs": [],
   "source": [
    "# Q5. Can we create an instance of an abstract class? Explain your answer. \n",
    "# No, we cannot create an instance of an abstract class in Python.\n",
    "\n",
    "# An abstract class is a class that contains one or more abstract methods, which are methods that are declared but do not \n",
    "# have an implementation. Abstract classes are meant to be subclassed, and the concrete subclasses must implement the abstract methods \n",
    "# defined in the abstract class"
   ]
  },
  {
   "cell_type": "code",
   "execution_count": null,
   "id": "4bc7b1ca-fdfd-4099-8d8c-6bb936c3e666",
   "metadata": {},
   "outputs": [],
   "source": []
  }
 ],
 "metadata": {
  "kernelspec": {
   "display_name": "Python 3 (ipykernel)",
   "language": "python",
   "name": "python3"
  },
  "language_info": {
   "codemirror_mode": {
    "name": "ipython",
    "version": 3
   },
   "file_extension": ".py",
   "mimetype": "text/x-python",
   "name": "python",
   "nbconvert_exporter": "python",
   "pygments_lexer": "ipython3",
   "version": "3.10.8"
  }
 },
 "nbformat": 4,
 "nbformat_minor": 5
}
